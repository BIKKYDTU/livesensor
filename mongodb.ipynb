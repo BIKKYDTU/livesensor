{
 "cells": [
  {
   "cell_type": "code",
   "execution_count": 3,
   "id": "03f0a525",
   "metadata": {},
   "outputs": [
    {
     "name": "stdout",
     "output_type": "stream",
     "text": [
      "Requirement already satisfied: pymongo in c:\\users\\asus\\desktop\\sensorlive\\.venv\\lib\\site-packages (4.2.0)\n",
      "Note: you may need to restart the kernel to use updated packages.\n"
     ]
    }
   ],
   "source": [
    "pip install pymongo"
   ]
  },
  {
   "cell_type": "code",
   "execution_count": 4,
   "id": "7ea309bf",
   "metadata": {},
   "outputs": [],
   "source": [
    "import pymongo\n",
    "\n",
    "from pymongo import MongoClient"
   ]
  },
  {
   "cell_type": "code",
   "execution_count": 5,
   "id": "eb3f4806",
   "metadata": {},
   "outputs": [],
   "source": [
    "connection_string = \"mongodb://localhost:27017/\""
   ]
  },
  {
   "cell_type": "code",
   "execution_count": 12,
   "id": "83d88e56",
   "metadata": {},
   "outputs": [],
   "source": [
    "client = MongoClient(connection_string)"
   ]
  },
  {
   "cell_type": "code",
   "execution_count": 6,
   "id": "9e1ad5bd",
   "metadata": {},
   "outputs": [
    {
     "name": "stdout",
     "output_type": "stream",
     "text": [
      "Databases: ['admin', 'config', 'ineuron', 'local', 'school']\n"
     ]
    }
   ],
   "source": [
    "from pymongo import MongoClient  # ✅ Step 1: Import MongoClient\n",
    "\n",
    "connection_string = \"mongodb://localhost:27017/\"  # ✅ Step 2: Define connection string\n",
    "\n",
    "client = MongoClient(connection_string)  # ✅ Step 3: Create MongoDB client\n",
    "\n",
    "# ✅ Optional: Verify connection by listing databases\n",
    "print(\"Databases:\", client.list_database_names())\n"
   ]
  },
  {
   "cell_type": "code",
   "execution_count": 7,
   "id": "2f5a6c74",
   "metadata": {},
   "outputs": [],
   "source": [
    "db = client[\"liveclass\"]"
   ]
  },
  {
   "cell_type": "code",
   "execution_count": 8,
   "id": "3db42e31",
   "metadata": {},
   "outputs": [],
   "source": [
    "collection = db[\"mongoclass\"]"
   ]
  },
  {
   "cell_type": "code",
   "execution_count": 9,
   "id": "d3bb5421",
   "metadata": {},
   "outputs": [],
   "source": [
    "data = {\n",
    "    \"name\": \"Bikky kumar\",\n",
    "    \"age\": 25,\n",
    "    'email': \"kumarbikky8340@gmail.com\"\n",
    "}"
   ]
  },
  {
   "cell_type": "code",
   "execution_count": 10,
   "id": "5a3af5db",
   "metadata": {},
   "outputs": [
    {
     "data": {
      "text/plain": [
       "<pymongo.results.InsertOneResult at 0x1c5f3a1b580>"
      ]
     },
     "execution_count": 10,
     "metadata": {},
     "output_type": "execute_result"
    }
   ],
   "source": [
    "collection.insert_one(data)"
   ]
  },
  {
   "cell_type": "code",
   "execution_count": 11,
   "id": "2e2d6c7d",
   "metadata": {},
   "outputs": [
    {
     "name": "stdout",
     "output_type": "stream",
     "text": [
      "{'_id': ObjectId('6873d071fcdb6729ca76c2c6'), 'name': 'Bikky kumar', 'age': 25, 'email': 'kumarbikky8340@gmail.com'}\n"
     ]
    }
   ],
   "source": [
    "cursor = collection.find({})\n",
    "for i in cursor:\n",
    "    print(i)"
   ]
  },
  {
   "cell_type": "code",
   "execution_count": null,
   "metadata": {},
   "outputs": [],
   "source": []
  }
 ],
 "metadata": {
  "kernelspec": {
   "display_name": ".venv",
   "language": "python",
   "name": "python3"
  },
  "language_info": {
   "codemirror_mode": {
    "name": "ipython",
    "version": 3
   },
   "file_extension": ".py",
   "mimetype": "text/x-python",
   "name": "python",
   "nbconvert_exporter": "python",
   "pygments_lexer": "ipython3",
   "version": "3.13.1"
  }
 },
 "nbformat": 4,
 "nbformat_minor": 5
}
